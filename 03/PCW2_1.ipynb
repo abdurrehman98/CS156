{
  "nbformat": 4,
  "nbformat_minor": 0,
  "metadata": {
    "colab": {
      "name": "PCW2.1.ipynb",
      "provenance": []
    },
    "kernelspec": {
      "name": "python3",
      "display_name": "Python 3"
    },
    "language_info": {
      "name": "python"
    }
  },
  "cells": [
    {
      "cell_type": "code",
      "metadata": {
        "id": "0YF3AT59G2LZ"
      },
      "source": [
        "import pandas as pd\n",
        "import matplotlib.pyplot as plt\n",
        "from sklearn.linear_model import LinearRegression\n",
        "from sklearn.model_selection import train_test_split\n",
        "from sklearn.metrics import mean_squared_error\n",
        "import numpy as np\n",
        "from sklearn import linear_model\n",
        "\n"
      ],
      "execution_count": 1,
      "outputs": []
    },
    {
      "cell_type": "code",
      "metadata": {
        "id": "ysNTkmS1L1zC"
      },
      "source": [
        "# Data file\n",
        "data_file = \"facebook_train.csv\"\n",
        "df = pd.read_csv(data_file)\n",
        "\n",
        
      ],
      "execution_count": 2,
      "outputs": []
    },
    {
      "cell_type": "code",
      "metadata": {
        "id": "Zb7TcHE9IZ9H"
      },
      "source": [
        "def transform(x):\n",
        "    if x == 'Photo':\n",
        "        return 1\n",
        "    elif x == 'Link':\n",
        "        return 2\n",
        "    else:\n",
        "        return 3"
      ],
      "execution_count": 3,
      "outputs": []
    },
    {
      "cell_type": "code",
      "metadata": {
        "id": "u5iKBxWvLVfs"
      },
      "source": [
        "df['cvt_type'] = df['type'].apply(lambda x: transform(x))\n"
      ],
      "execution_count": 4,
      "outputs": []
    },
    {
      "cell_type": "code",
      "metadata": {
        "colab": {
          "base_uri": "https://localhost:8080/"
        },
        "id": "paSqFGx_LdXk",
        "outputId": "21ca0a6f-5710-497b-a280-dcf1f47fd512"
      },
      "source": [
        "df.head"
      ],
      "execution_count": 5,
      "outputs": [
        {
          "output_type": "execute_result",
          "data": {
            "text/plain": [
              "<bound method NDFrame.head of      total_followers    type  category  month  ...  comment  like  share  cvt_type\n",
              "0             124050   Photo         3      6  ...        3    77     16         1\n",
              "1             132556   Photo         2      8  ...       11   313     50         1\n",
              "2              92786   Photo         2      2  ...        2   145     39         1\n",
              "3             135632   Photo         1      9  ...        2   299     49         1\n",
              "4             139540    Link         1     12  ...        7   229     21         2\n",
              "..               ...     ...       ...    ...  ...      ...   ...    ...       ...\n",
              "392           138114  Status         2     12  ...       12   498     87         3\n",
              "393           127937  Status         2      6  ...        4    85     20         3\n",
              "394           135656   Video         1      9  ...        7   397    143         3\n",
              "395           124663   Photo         3      6  ...        1    87     18         1\n",
              "396            93096   Photo         1      2  ...        6   296     32         1\n",
              "\n",
              "[397 rows x 11 columns]>"
            ]
          },
          "metadata": {},
          "execution_count": 5
        }
      ]
    },
    {
      "cell_type": "code",
      "metadata": {
        "id": "YUvdPnIDLd_c"
      },
      "source": [
        "#get dependent and independent variables for the model\n",
        "x = np.array(df[['total_followers', 'category', 'cvt_type', 'month', 'weekday', 'paid']])\n",
        "y = np.array(df['share']).reshape(-1,1)"
      ],
      "execution_count": 6,
      "outputs": []
    },
    {
      "cell_type": "code",
      "metadata": {
        "id": "cxr0ClW2Lz7H"
      },
      "source": [
        "#split data\n",
        "X_train, X_test, y_train, y_test = train_test_split(x,y, test_size = 0.3, random_state = 11 )\n",
        "\n"
      ],
      "execution_count": 7,
      "outputs": []
    },
    {
      "cell_type": "code",
      "metadata": {
        "colab": {
          "base_uri": "https://localhost:8080/"
        },
        "id": "oQ0RcT27MOmC",
        "outputId": "0987b30e-f4d1-42b3-8857-895a2c26e5b0"
      },
      "source": [
        "regr = linear_model.LinearRegression()\n",
        "regr.fit(X_train, y_train)\n",
        "y_predict = regr.predict(X_test)\n",
        "print(regr.coef_)"
      ],
      "execution_count": 8,
      "outputs": [
        {
          "output_type": "stream",
          "name": "stdout",
          "text": [
            "[[ 3.07463180e-04  7.16164109e+00  3.69086304e+00 -1.49122229e+00\n",
            "   2.81996457e+00  1.81052131e+01]]\n"
          ]
        }
      ]
    },
    {
      "cell_type": "code",
      "metadata": {
        "id": "66ZxmrJSM4O3"
      },
      "source": [
        "month = X_train[:,[3]]\n",
        "month1 = X_test[:,[3]]"
      ],
      "execution_count": 9,
      "outputs": []
    },
    {
      "cell_type": "code",
      "metadata": {
        "colab": {
          "base_uri": "https://localhost:8080/",
          "height": 578
        },
        "id": "UzyoaMwLNRRk",
        "outputId": "b491cc87-f5f6-4d2c-8d4c-89806f10f5ba"
      },
      "source": [
        "from matplotlib import pyplot as plt\n",
        "\n",
        "plt.figure(figsize=(20,10))\n",
        "plt.scatter(month, y_train, color=\"red\", marker=\".\", linewidth=10)\n",
        "plt.scatter(month1, y_predict, color=\"aqua\")\n",
        "plt.xlabel(\"Hour\")\n",
        "plt.ylabel(\"Number of shares\")\n",
        "plt.show()"
      ],
      "execution_count": 10,
      "outputs": [
        {
          "output_type": "display_data",
          "data": {
            "image/png": "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\n",
            "text/plain": [
              "<Figure size 1440x720 with 1 Axes>"
            ]
          },
          "metadata": {
            "needs_background": "light"
          }
        }
      ]
    },
    {
      "cell_type": "code",
      "metadata": {
        "colab": {
          "base_uri": "https://localhost:8080/",
          "height": 601
        },
        "id": "38odOkZZNUkJ",
        "outputId": "6068dd6f-331e-4ecd-d630-ffeef2c1ebed"
      },
      "source": [
        "import statsmodels.api as sm\n",
        "from statsmodels.api import OLS\n",
        "OLS(y_train,X_train).fit().summary()"
      ],
      "execution_count": 11,
      "outputs": [
        {
          "output_type": "stream",
          "name": "stderr",
          "text": [
            "/usr/local/lib/python3.7/dist-packages/statsmodels/tools/_testing.py:19: FutureWarning: pandas.util.testing is deprecated. Use the functions in the public API at pandas.testing instead.\n",
            "  import pandas.util.testing as tm\n"
          ]
        },
        {
          "output_type": "execute_result",
          "data": {
            "text/html": [
              "<table class=\"simpletable\">\n",
              "<caption>OLS Regression Results</caption>\n",
              "<tr>\n",
              "  <th>Dep. Variable:</th>            <td>y</td>        <th>  R-squared (uncentered):</th>      <td>   0.254</td>\n",
              "</tr>\n",
              "<tr>\n",
              "  <th>Model:</th>                   <td>OLS</td>       <th>  Adj. R-squared (uncentered):</th> <td>   0.237</td>\n",
              "</tr>\n",
              "<tr>\n",
              "  <th>Method:</th>             <td>Least Squares</td>  <th>  F-statistic:       </th>          <td>   15.34</td>\n",
              "</tr>\n",
              "<tr>\n",
              "  <th>Date:</th>             <td>Mon, 13 Sep 2021</td> <th>  Prob (F-statistic):</th>          <td>3.89e-15</td>\n",
              "</tr>\n",
              "<tr>\n",
              "  <th>Time:</th>                 <td>10:21:40</td>     <th>  Log-Likelihood:    </th>          <td> -1531.7</td>\n",
              "</tr>\n",
              "<tr>\n",
              "  <th>No. Observations:</th>      <td>   277</td>      <th>  AIC:               </th>          <td>   3075.</td>\n",
              "</tr>\n",
              "<tr>\n",
              "  <th>Df Residuals:</th>          <td>   271</td>      <th>  BIC:               </th>          <td>   3097.</td>\n",
              "</tr>\n",
              "<tr>\n",
              "  <th>Df Model:</th>              <td>     6</td>      <th>                     </th>              <td> </td>   \n",
              "</tr>\n",
              "<tr>\n",
              "  <th>Covariance Type:</th>      <td>nonrobust</td>    <th>                     </th>              <td> </td>   \n",
              "</tr>\n",
              "</table>\n",
              "<table class=\"simpletable\">\n",
              "<tr>\n",
              "   <td></td>     <th>coef</th>     <th>std err</th>      <th>t</th>      <th>P>|t|</th>  <th>[0.025</th>    <th>0.975]</th>  \n",
              "</tr>\n",
              "<tr>\n",
              "  <th>x1</th> <td> 1.908e-05</td> <td>    0.000</td> <td>    0.111</td> <td> 0.912</td> <td>   -0.000</td> <td>    0.000</td>\n",
              "</tr>\n",
              "<tr>\n",
              "  <th>x2</th> <td>    7.0007</td> <td>    4.391</td> <td>    1.594</td> <td> 0.112</td> <td>   -1.644</td> <td>   15.645</td>\n",
              "</tr>\n",
              "<tr>\n",
              "  <th>x3</th> <td>    3.3066</td> <td>    6.159</td> <td>    0.537</td> <td> 0.592</td> <td>   -8.820</td> <td>   15.433</td>\n",
              "</tr>\n",
              "<tr>\n",
              "  <th>x4</th> <td>   -0.1881</td> <td>    1.654</td> <td>   -0.114</td> <td> 0.910</td> <td>   -3.444</td> <td>    3.068</td>\n",
              "</tr>\n",
              "<tr>\n",
              "  <th>x5</th> <td>    2.7368</td> <td>    1.906</td> <td>    1.436</td> <td> 0.152</td> <td>   -1.016</td> <td>    6.489</td>\n",
              "</tr>\n",
              "<tr>\n",
              "  <th>x6</th> <td>   18.3506</td> <td>    8.521</td> <td>    2.154</td> <td> 0.032</td> <td>    1.574</td> <td>   35.127</td>\n",
              "</tr>\n",
              "</table>\n",
              "<table class=\"simpletable\">\n",
              "<tr>\n",
              "  <th>Omnibus:</th>       <td>516.079</td> <th>  Durbin-Watson:     </th>  <td>   1.996</td> \n",
              "</tr>\n",
              "<tr>\n",
              "  <th>Prob(Omnibus):</th> <td> 0.000</td>  <th>  Jarque-Bera (JB):  </th> <td>256463.588</td>\n",
              "</tr>\n",
              "<tr>\n",
              "  <th>Skew:</th>          <td>10.816</td>  <th>  Prob(JB):          </th>  <td>    0.00</td> \n",
              "</tr>\n",
              "<tr>\n",
              "  <th>Kurtosis:</th>      <td>150.488</td> <th>  Cond. No.          </th>  <td>2.85e+05</td> \n",
              "</tr>\n",
              "</table><br/><br/>Warnings:<br/>[1] Standard Errors assume that the covariance matrix of the errors is correctly specified.<br/>[2] The condition number is large, 2.85e+05. This might indicate that there are<br/>strong multicollinearity or other numerical problems."
            ],
            "text/plain": [
              "<class 'statsmodels.iolib.summary.Summary'>\n",
              "\"\"\"\n",
              "                                 OLS Regression Results                                \n",
              "=======================================================================================\n",
              "Dep. Variable:                      y   R-squared (uncentered):                   0.254\n",
              "Model:                            OLS   Adj. R-squared (uncentered):              0.237\n",
              "Method:                 Least Squares   F-statistic:                              15.34\n",
              "Date:                Mon, 13 Sep 2021   Prob (F-statistic):                    3.89e-15\n",
              "Time:                        10:21:40   Log-Likelihood:                         -1531.7\n",
              "No. Observations:                 277   AIC:                                      3075.\n",
              "Df Residuals:                     271   BIC:                                      3097.\n",
              "Df Model:                           6                                                  \n",
              "Covariance Type:            nonrobust                                                  \n",
              "==============================================================================\n",
              "                 coef    std err          t      P>|t|      [0.025      0.975]\n",
              "------------------------------------------------------------------------------\n",
              "x1          1.908e-05      0.000      0.111      0.912      -0.000       0.000\n",
              "x2             7.0007      4.391      1.594      0.112      -1.644      15.645\n",
              "x3             3.3066      6.159      0.537      0.592      -8.820      15.433\n",
              "x4            -0.1881      1.654     -0.114      0.910      -3.444       3.068\n",
              "x5             2.7368      1.906      1.436      0.152      -1.016       6.489\n",
              "x6            18.3506      8.521      2.154      0.032       1.574      35.127\n",
              "==============================================================================\n",
              "Omnibus:                      516.079   Durbin-Watson:                   1.996\n",
              "Prob(Omnibus):                  0.000   Jarque-Bera (JB):           256463.588\n",
              "Skew:                          10.816   Prob(JB):                         0.00\n",
              "Kurtosis:                     150.488   Cond. No.                     2.85e+05\n",
              "==============================================================================\n",
              "\n",
              "Warnings:\n",
              "[1] Standard Errors assume that the covariance matrix of the errors is correctly specified.\n",
              "[2] The condition number is large, 2.85e+05. This might indicate that there are\n",
              "strong multicollinearity or other numerical problems.\n",
              "\"\"\""
            ]
          },
          "metadata": {},
          "execution_count": 11
        }
      ]
    },
    {
      "cell_type": "code",
      "metadata": {
        "id": "KpCKGQcCPLHK"
      },
      "source": [
        ""
      ],
      "execution_count": 11,
      "outputs": []
    },
    {
      "cell_type": "markdown",
      "metadata": {
        "id": "ye1xtOG5c8HV"
      },
      "source": [
        "## Problem 2"
      ]
    },
    {
      "cell_type": "code",
      "metadata": {
        "id": "WKpVhgp4c-iu"
      },
      "source": [
        "df1 = pd.read_csv('casualty_train.csv')\n",
        "df1.head()\n",
        "df1_rep = df1"
      ],
      "execution_count": 12,
      "outputs": []
    },
    {
      "cell_type": "code",
      "metadata": {
        "colab": {
          "base_uri": "https://localhost:8080/"
        },
        "id": "A0QJc0hnf_D_",
        "outputId": "fcf83444-e628-4361-b914-da80e1015e72"
      },
      "source": [
        "df1_rep['age'][df1['age'] == 'Unknown']= '0'\n",
        "df1_rep['age'] = pd.to_numeric(df1.age)\n",
        "df1_rep['pedestrian_movement'][pd.isnull(df1['pedestrian_movement'])]= 'NaN'\n",
        "df1_rep['pedestrian_location'][pd.isnull(df1['pedestrian_location'])]= 'NaN'\n",
        "\n",
        "df1_rep = df1"
      ],
      "execution_count": 13,
      "outputs": [
        {
          "output_type": "stream",
          "name": "stderr",
          "text": [
            "/usr/local/lib/python3.7/dist-packages/ipykernel_launcher.py:1: SettingWithCopyWarning: \n",
            "A value is trying to be set on a copy of a slice from a DataFrame\n",
            "\n",
            "See the caveats in the documentation: https://pandas.pydata.org/pandas-docs/stable/user_guide/indexing.html#returning-a-view-versus-a-copy\n",
            "  \"\"\"Entry point for launching an IPython kernel.\n",
            "/usr/local/lib/python3.7/dist-packages/ipykernel_launcher.py:3: SettingWithCopyWarning: \n",
            "A value is trying to be set on a copy of a slice from a DataFrame\n",
            "\n",
            "See the caveats in the documentation: https://pandas.pydata.org/pandas-docs/stable/user_guide/indexing.html#returning-a-view-versus-a-copy\n",
            "  This is separate from the ipykernel package so we can avoid doing imports until\n",
            "/usr/local/lib/python3.7/dist-packages/ipykernel_launcher.py:4: SettingWithCopyWarning: \n",
            "A value is trying to be set on a copy of a slice from a DataFrame\n",
            "\n",
            "See the caveats in the documentation: https://pandas.pydata.org/pandas-docs/stable/user_guide/indexing.html#returning-a-view-versus-a-copy\n",
            "  after removing the cwd from sys.path.\n"
          ]
        }
      ]
    },
    {
      "cell_type": "code",
      "metadata": {
        "id": "JGaeatTPgUGh"
      },
      "source": [
        "from sklearn import datasets, svm, metrics\n",
        "from sklearn.neighbors import KNeighborsClassifier\n",
        "from sklearn.preprocessing import LabelEncoder"
      ],
      "execution_count": 14,
      "outputs": []
    },
    {
      "cell_type": "code",
      "metadata": {
        "id": "F0EpqFwojce1"
      },
      "source": [
        "encoded = LabelEncoder()\n",
        "\n",
        "df1_rep['casualty_class'] = encoded.fit_transform(df1.casualty_class)\n",
        "df1_rep['gender'] = encoded.fit_transform(df1.gender)\n",
        "df1_rep['travel'] = encoded.fit_transform(df1.travel)\n",
        "df1_rep['pedestrian_movement'] = encoded.fit_transform(df1.pedestrian_movement)\n",
        "df1_rep['pedestrian_location'] = encoded.fit_transform(df1.pedestrian_location)\n",
        "df1_rep['severe'] = encoded.fit_transform(df1.severe)"
      ],
      "execution_count": 15,
      "outputs": []
    },
    {
      "cell_type": "code",
      "metadata": {
        "colab": {
          "base_uri": "https://localhost:8080/",
          "height": 417
        },
        "id": "ao3tQTkRj6OZ",
        "outputId": "5dd3af87-180a-41f9-86aa-498a52cb62a9"
      },
      "source": [
        "df1_rep"
      ],
      "execution_count": 16,
      "outputs": [
        {
          "output_type": "execute_result",
          "data": {
            "text/html": [
              "<div>\n",
              "<style scoped>\n",
              "    .dataframe tbody tr th:only-of-type {\n",
              "        vertical-align: middle;\n",
              "    }\n",
              "\n",
              "    .dataframe tbody tr th {\n",
              "        vertical-align: top;\n",
              "    }\n",
              "\n",
              "    .dataframe thead th {\n",
              "        text-align: right;\n",
              "    }\n",
              "</style>\n",
              "<table border=\"1\" class=\"dataframe\">\n",
              "  <thead>\n",
              "    <tr style=\"text-align: right;\">\n",
              "      <th></th>\n",
              "      <th>casualty_class</th>\n",
              "      <th>gender</th>\n",
              "      <th>age</th>\n",
              "      <th>severe</th>\n",
              "      <th>pedestrian_location</th>\n",
              "      <th>pedestrian_movement</th>\n",
              "      <th>travel</th>\n",
              "      <th>year</th>\n",
              "    </tr>\n",
              "  </thead>\n",
              "  <tbody>\n",
              "    <tr>\n",
              "      <th>0</th>\n",
              "      <td>1</td>\n",
              "      <td>0</td>\n",
              "      <td>33</td>\n",
              "      <td>0</td>\n",
              "      <td>3</td>\n",
              "      <td>8</td>\n",
              "      <td>3</td>\n",
              "      <td>2007</td>\n",
              "    </tr>\n",
              "    <tr>\n",
              "      <th>1</th>\n",
              "      <td>1</td>\n",
              "      <td>0</td>\n",
              "      <td>20</td>\n",
              "      <td>0</td>\n",
              "      <td>3</td>\n",
              "      <td>8</td>\n",
              "      <td>2</td>\n",
              "      <td>2005</td>\n",
              "    </tr>\n",
              "    <tr>\n",
              "      <th>2</th>\n",
              "      <td>1</td>\n",
              "      <td>1</td>\n",
              "      <td>52</td>\n",
              "      <td>0</td>\n",
              "      <td>3</td>\n",
              "      <td>8</td>\n",
              "      <td>2</td>\n",
              "      <td>2006</td>\n",
              "    </tr>\n",
              "    <tr>\n",
              "      <th>3</th>\n",
              "      <td>1</td>\n",
              "      <td>0</td>\n",
              "      <td>17</td>\n",
              "      <td>0</td>\n",
              "      <td>3</td>\n",
              "      <td>8</td>\n",
              "      <td>5</td>\n",
              "      <td>2012</td>\n",
              "    </tr>\n",
              "    <tr>\n",
              "      <th>4</th>\n",
              "      <td>1</td>\n",
              "      <td>0</td>\n",
              "      <td>20</td>\n",
              "      <td>0</td>\n",
              "      <td>3</td>\n",
              "      <td>8</td>\n",
              "      <td>3</td>\n",
              "      <td>2010</td>\n",
              "    </tr>\n",
              "    <tr>\n",
              "      <th>...</th>\n",
              "      <td>...</td>\n",
              "      <td>...</td>\n",
              "      <td>...</td>\n",
              "      <td>...</td>\n",
              "      <td>...</td>\n",
              "      <td>...</td>\n",
              "      <td>...</td>\n",
              "      <td>...</td>\n",
              "    </tr>\n",
              "    <tr>\n",
              "      <th>232830</th>\n",
              "      <td>1</td>\n",
              "      <td>0</td>\n",
              "      <td>40</td>\n",
              "      <td>0</td>\n",
              "      <td>3</td>\n",
              "      <td>8</td>\n",
              "      <td>2</td>\n",
              "      <td>2014</td>\n",
              "    </tr>\n",
              "    <tr>\n",
              "      <th>232831</th>\n",
              "      <td>1</td>\n",
              "      <td>0</td>\n",
              "      <td>41</td>\n",
              "      <td>0</td>\n",
              "      <td>3</td>\n",
              "      <td>8</td>\n",
              "      <td>5</td>\n",
              "      <td>2013</td>\n",
              "    </tr>\n",
              "    <tr>\n",
              "      <th>232832</th>\n",
              "      <td>2</td>\n",
              "      <td>0</td>\n",
              "      <td>45</td>\n",
              "      <td>0</td>\n",
              "      <td>0</td>\n",
              "      <td>1</td>\n",
              "      <td>0</td>\n",
              "      <td>2010</td>\n",
              "    </tr>\n",
              "    <tr>\n",
              "      <th>232833</th>\n",
              "      <td>2</td>\n",
              "      <td>1</td>\n",
              "      <td>10</td>\n",
              "      <td>1</td>\n",
              "      <td>0</td>\n",
              "      <td>2</td>\n",
              "      <td>0</td>\n",
              "      <td>2009</td>\n",
              "    </tr>\n",
              "    <tr>\n",
              "      <th>232834</th>\n",
              "      <td>1</td>\n",
              "      <td>0</td>\n",
              "      <td>37</td>\n",
              "      <td>0</td>\n",
              "      <td>3</td>\n",
              "      <td>8</td>\n",
              "      <td>2</td>\n",
              "      <td>2014</td>\n",
              "    </tr>\n",
              "  </tbody>\n",
              "</table>\n",
              "<p>232835 rows × 8 columns</p>\n",
              "</div>"
            ],
            "text/plain": [
              "        casualty_class  gender  age  ...  pedestrian_movement  travel  year\n",
              "0                    1       0   33  ...                    8       3  2007\n",
              "1                    1       0   20  ...                    8       2  2005\n",
              "2                    1       1   52  ...                    8       2  2006\n",
              "3                    1       0   17  ...                    8       5  2012\n",
              "4                    1       0   20  ...                    8       3  2010\n",
              "...                ...     ...  ...  ...                  ...     ...   ...\n",
              "232830               1       0   40  ...                    8       2  2014\n",
              "232831               1       0   41  ...                    8       5  2013\n",
              "232832               2       0   45  ...                    1       0  2010\n",
              "232833               2       1   10  ...                    2       0  2009\n",
              "232834               1       0   37  ...                    8       2  2014\n",
              "\n",
              "[232835 rows x 8 columns]"
            ]
          },
          "metadata": {},
          "execution_count": 16
        }
      ]
    },
    {
      "cell_type": "code",
      "metadata": {
        "id": "Pd4xuK7RkeTP"
      },
      "source": [
        "df1_rep = df1_rep.dropna()\n",
        "X = df1_rep.drop('severe', axis = 'columns')\n",
        "Y = df1_rep.severe\n",
        "X_train, X_test, y_train, y_test = train_test_split(X, Y, test_size = 0.3, random_state = 11)"
      ],
      "execution_count": 17,
      "outputs": []
    },
    {
      "cell_type": "code",
      "metadata": {
        "id": "XULfYcVSkxZx"
      },
      "source": [
        ""
      ],
      "execution_count": 17,
      "outputs": []
    },
    {
      "cell_type": "code",
      "metadata": {
        "id": "IDWiMCBToIq8"
      },
      "source": [
        "model1 = KNeighborsClassifier(n_neighbors = 4)\n",
        "model1.fit(X_train, y_train)\n",
        "\n",
        "predict = model1.predict(X_test)"
      ],
      "execution_count": 18,
      "outputs": []
    },
    {
      "cell_type": "code",
      "metadata": {
        "colab": {
          "base_uri": "https://localhost:8080/"
        },
        "id": "xKhkwB1To1In",
        "outputId": "3466bb33-8fe1-431b-c5fc-df7278ab66f0"
      },
      "source": [
        "print(model1, metrics.classification_report(y_test, predict))"
      ],
      "execution_count": 19,
      "outputs": [
        {
          "output_type": "stream",
          "name": "stdout",
          "text": [
            "KNeighborsClassifier(algorithm='auto', leaf_size=30, metric='minkowski',\n",
            "                     metric_params=None, n_jobs=None, n_neighbors=4, p=2,\n",
            "                     weights='uniform')               precision    recall  f1-score   support\n",
            "\n",
            "           0       0.89      0.99      0.94     62330\n",
            "           1       0.22      0.02      0.04      7521\n",
            "\n",
            "    accuracy                           0.89     69851\n",
            "   macro avg       0.56      0.51      0.49     69851\n",
            "weighted avg       0.82      0.89      0.84     69851\n",
            "\n"
          ]
        }
      ]
    },
    {
      "cell_type": "code",
      "metadata": {
        "colab": {
          "base_uri": "https://localhost:8080/",
          "height": 279
        },
        "id": "1bhKu2ypqfIh",
        "outputId": "2bebb91d-0630-4d21-f01b-e82678121241"
      },
      "source": [
        "matrix = metrics.plot_confusion_matrix(model1, X_test, y_test)\n"
      ],
      "execution_count": 20,
      "outputs": [
        {
          "output_type": "display_data",
          "data": {
            "image/png": "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\n",
            "text/plain": [
              "<Figure size 432x288 with 2 Axes>"
            ]
          },
          "metadata": {
            "needs_background": "light"
          }
        }
      ]
    },
    {
      "cell_type": "code",
      "metadata": {
        "id": "8RtaaAHBrDCN"
      },
      "source": [
        ""
      ],
      "execution_count": 20,
      "outputs": []
    }
  ]
}
