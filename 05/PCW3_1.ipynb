{
  "nbformat": 4,
  "nbformat_minor": 0,
  "metadata": {
    "colab": {
      "name": "PCW3.1.ipynb",
      "provenance": []
    },
    "kernelspec": {
      "name": "python3",
      "display_name": "Python 3"
    },
    "language_info": {
      "name": "python"
    }
  },
  "cells": [
    {
      "cell_type": "code",
      "metadata": {
        "id": "PGKCzKyWKmN7"
      },
      "source": [
        "from sklearn.metrics.pairwise import rbf_kernel\n",
        "from sklearn.linear_model import Ridge\n",
        "import matplotlib.pyplot as plt\n",
        "import numpy as np\n",
        "\n",
        "\n"
      ],
      "execution_count": 1,
      "outputs": []
    },
    {
      "cell_type": "code",
      "metadata": {
        "colab": {
          "base_uri": "https://localhost:8080/"
        },
        "id": "FSXGVCWXNaoh",
        "outputId": "8a102b56-867c-44ec-f847-28201fc9c23d"
      },
      "source": [
        "heights = np.asarray([1.32, 1.45, 1.66, 1.88]).reshape(-1, 1)\n",
        "weights = np.asarray([55, 67, 70, 100]).reshape(-1, 1)\n",
        "centers = np.asarray([1.0, 1.2, 1.4, 1.6, 1.8, 2.0]).reshape(-1, 1)\n",
        "print(\"centers.shape\", centers.shape)\n",
        "print(\"heights.shape\", heights.shape)\n",
        "print(\"weights.shape\", weights.shape)\n",
        "\n",
        "# I recommend playing around with these parameters and seeing how well you fit\n",
        "# the data.  Changing one of the parameters will change the optimal value of\n",
        "# the other:\n",
        "sigma = 0.1\n",
        "alpha = 0.0001\n"
      ],
      "execution_count": 2,
      "outputs": [
        {
          "output_type": "stream",
          "name": "stdout",
          "text": [
            "centers.shape (6, 1)\n",
            "heights.shape (4, 1)\n",
            "weights.shape (4, 1)\n"
          ]
        }
      ]
    },
    {
      "cell_type": "code",
      "metadata": {
        "colab": {
          "base_uri": "https://localhost:8080/",
          "height": 567
        },
        "id": "EaiqWjVFNedv",
        "outputId": "4f35b9f8-dfdb-44fb-a3d8-40ed284f64bc"
      },
      "source": [
        "\n",
        "# New representation:\n",
        "x = rbf_kernel(heights, centers, gamma=1.0/sigma)\n",
        "print(\"x.shape\", x.shape)\n",
        "print(\"Original inputs\", heights)\n",
        "print(\"RBF repr\", x)\n",
        "\n",
        "# Now go and fit a linear model between x and height\n",
        "regr = Ridge(alpha=alpha, fit_intercept=False)\n",
        "regr.fit(x, weights)\n",
        "print(\"Score on training data = \", regr.score(x, weights))\n",
        "all_x = np.linspace(-3.0, 5.0, 1000).reshape(-1, 1)\n",
        "\n",
        "# New representation:\n",
        "expanded_x = rbf_kernel(all_x, centers, gamma=1 / sigma)\n",
        "all_y = regr.predict(expanded_x)\n",
        "print(\"all_x.shape\", all_x.shape)\n",
        "print(\"expanded_x.shape\", expanded_x.shape)\n",
        "print(\"all_y.shape\", all_y.shape)\n",
        "\n",
        "# Show that the predictions tend to zero far away from inputs\n",
        "plt.figure()\n",
        "plt.plot(all_x, all_y)\n",
        "plt.scatter(heights, weights)"
      ],
      "execution_count": 3,
      "outputs": [
        {
          "output_type": "stream",
          "name": "stdout",
          "text": [
            "x.shape (4, 6)\n",
            "Original inputs [[1.32]\n",
            " [1.45]\n",
            " [1.66]\n",
            " [1.88]]\n",
            "RBF repr [[3.59155441e-01 8.65887748e-01 9.38005000e-01 4.56576050e-01\n",
            "  9.98586094e-02 9.81346359e-03]\n",
            " [1.31993843e-01 5.35261429e-01 9.75309912e-01 7.98516219e-01\n",
            "  2.93757700e-01 4.85578213e-02]\n",
            " [1.28296036e-02 1.20512717e-01 5.08647519e-01 9.64640293e-01\n",
            "  8.22012235e-01 3.14742637e-01]\n",
            " [4.33334765e-04 9.81346359e-03 9.98586094e-02 4.56576050e-01\n",
            "  9.38005000e-01 8.65887748e-01]]\n",
            "Score on training data =  0.9999957340594902\n",
            "all_x.shape (1000, 1)\n",
            "expanded_x.shape (1000, 6)\n",
            "all_y.shape (1000, 1)\n"
          ]
        },
        {
          "output_type": "execute_result",
          "data": {
            "text/plain": [
              "<matplotlib.collections.PathCollection at 0x7fc3d2414c90>"
            ]
          },
          "metadata": {},
          "execution_count": 3
        },
        {
          "output_type": "display_data",
          "data": {
            "image/png": "[encoded data removed]",
            "text/plain": [
              "<Figure size 432x288 with 1 Axes>"
            ]
          },
          "metadata": {
            "needs_background": "light"
          }
        }
      ]
    },
    {
      "cell_type": "code",
      "metadata": {
        "colab": {
          "base_uri": "https://localhost:8080/",
          "height": 265
        },
        "id": "MU6tMzrTNinu",
        "outputId": "23c1ce6f-1455-4171-e0e0-5dc1267c85ca"
      },
      "source": [
        "\n",
        "# Zoom in and see how well predictions fit the data\n",
        "zoom_ind = (all_x > heights.min()) & (all_x < heights.max())\n",
        "plt.figure()\n",
        "plt.plot(all_x[zoom_ind], all_y[zoom_ind])\n",
        "plt.scatter(heights, weights)\n",
        "plt.show()"
      ],
      "execution_count": 4,
      "outputs": [
        {
          "output_type": "display_data",
          "data": {
            "image/png": "[encoded data removed]",
            "text/plain": [
              "<Figure size 432x288 with 1 Axes>"
            ]
          },
          "metadata": {
            "needs_background": "light"
          }
        }
      ]
    },
    {
      "cell_type": "markdown",
      "metadata": {
        "id": "nlqjYaXZs8D6"
      },
      "source": [
        "## PRE CLASS WORK"
      ]
    },
    {
      "cell_type": "code",
      "metadata": {
        "id": "qtrBRDZ2NjrF"
      },
      "source": [
        "import numpy as np\n",
        "import matplotlib.pyplot as plt\n",
        "from sklearn import linear_model\n",
        "\n",
        "years = range(2011, 2017)\n",
        "files = ['CRNS0101-05-%d-CA_Yosemite_Village_12_W.txt' % y for y in years]\n",
        "usecols = [1, 2, 8]\n",
        "\n",
        "data = [np.loadtxt(f, usecols=usecols) for f in files]\n",
        "data = np.vstack(data)\n",
        "\n",
        "data[:, 1] = np.floor_divide(data[:, 1], 100) * 60 + np.mod(data[:, 1], 100)\n",
        "valid = data[:, 2] > -1000\n",
        "\n",
        "x_train = data[valid, 1].reshape(-1, 1)\n",
        "y_train = data[valid, 2]"
      ],
      "execution_count": 5,
      "outputs": []
    },
    {
      "cell_type": "code",
      "metadata": {
        "colab": {
          "base_uri": "https://localhost:8080/",
          "height": 265
        },
        "id": "uJUp6Wn9UEvA",
        "outputId": "b5433812-5a64-4f09-8211-a406bfd67c81"
      },
      "source": [
        "regr = linear_model.LinearRegression()\n",
        "regr.fit(x_train, y_train)\n",
        "\n",
        "x_predict = [[0], [1435]]\n",
        "y_predict = regr.predict(x_predict)\n",
        "\n",
        "plt.scatter(data[valid, 1], data[valid, 2], label='Data', color='b')\n",
        "plt.plot(x_predict, y_predict, label='Linear prediction', color='r')\n",
        "plt.legend(loc='best')\n",
        "plt.show()"
      ],
      "execution_count": 14,
      "outputs": [
        {
          "output_type": "display_data",
          "data": {
            "image/png": "[encoded data removed]",
            "text/plain": [
              "<Figure size 432x288 with 1 Axes>"
            ]
          },
          "metadata": {
            "needs_background": "light"
          }
        }
      ]
    },
    {
      "cell_type": "code",
      "metadata": {
        "colab": {
          "base_uri": "https://localhost:8080/"
        },
        "id": "-s6p7yFRU1nY",
        "outputId": "dbcfc6d8-3149-4935-b6a4-b6576b4a0195"
      },
      "source": [
        "## Sigma Setting\n",
        "\n",
        "sigma = 1000   # increasing Sigma makes the effect of each data point higher\n",
        "\n",
        "centers = np.linspace(x_train.min(), x_train.max(), 48).reshape(-1, 1)  # we need centers for RBF kernel; height is x_train\n",
        "X_train1 = rbf_kernel(x_train, centers, gamma=1 / sigma)  \n",
        "print(X_train1)"
      ],
      "execution_count": 8,
      "outputs": [
        {
          "output_type": "stream",
          "name": "stdout",
          "text": [
            "[[0.97530991 0.52106594 0.04314654 ... 0.         0.         0.        ]\n",
            " [0.90483742 0.65602293 0.07371753 ... 0.         0.         0.        ]\n",
            " [0.79851622 0.78565275 0.11980661 ... 0.         0.         0.        ]\n",
            " ...\n",
            " [0.         0.         0.         ... 0.04314654 0.52106594 0.97530991]\n",
            " [0.         0.         0.         ... 0.02402185 0.3936875  1.        ]\n",
            " [1.         0.3936875  0.02402185 ... 0.         0.         0.        ]]\n"
          ]
        }
      ]
    },
    {
      "cell_type": "code",
      "metadata": {
        "colab": {
          "base_uri": "https://localhost:8080/"
        },
        "id": "_VmDzGbTYbjM",
        "outputId": "5e89289d-5650-47e8-b894-a786fd195bc1"
      },
      "source": [
        "alpha = 0.001 # increasing alpha makes the line more generalized over the data\n",
        "\n",
        "ridge_regr = Ridge(alpha=alpha, fit_intercept=False)\n",
        "ridge_regr.fit(X_train1, y_train)\n",
        "print(\"Score on training data = \", ridge_regr.score(X_train1, y_train))"
      ],
      "execution_count": 10,
      "outputs": [
        {
          "output_type": "stream",
          "name": "stdout",
          "text": [
            "Score on training data =  0.04439391027889239\n"
          ]
        }
      ]
    },
    {
      "cell_type": "code",
      "metadata": {
        "colab": {
          "base_uri": "https://localhost:8080/",
          "height": 282
        },
        "id": "xHvWW8e-YeiR",
        "outputId": "68fec6c2-f866-4531-ac8a-bfa944c46665"
      },
      "source": [
        "x_predict = np.linspace(x_train.min(), x_train.max(), 100).reshape(-1, 1)\n",
        "all_x = rbf_kernel(x_predict, centers, gamma=1.0 / sigma)\n",
        "y_predict = ridge_regr.predict(all_x)\n",
        "plt.plot(x_predict, y_predict, label='Linear prediction')"
      ],
      "execution_count": 11,
      "outputs": [
        {
          "output_type": "execute_result",
          "data": {
            "text/plain": [
              "[<matplotlib.lines.Line2D at 0x7fc3d0777a50>]"
            ]
          },
          "metadata": {},
          "execution_count": 11
        },
        {
          "output_type": "display_data",
          "data": {
            "image/png": "[encoded data removed]",
            "text/plain": [
              "<Figure size 432x288 with 1 Axes>"
            ]
          },
          "metadata": {
            "needs_background": "light"
          }
        }
      ]
    },
    {
      "cell_type": "code",
      "metadata": {
        "colab": {
          "base_uri": "https://localhost:8080/",
          "height": 229
        },
        "id": "Jx5QRccTYw8M",
        "outputId": "313a5c20-3fc4-4581-8ead-65bbafbc0332"
      },
      "source": [
        ""
      ],
      "execution_count": 15,
      "outputs": [
        {
          "output_type": "error",
          "ename": "AttributeError",
          "evalue": "ignored",
          "traceback": [
            "\u001b[0;31m---------------------------------------------------------------------------\u001b[0m",
            "\u001b[0;31mAttributeError\u001b[0m                            Traceback (most recent call last)",
            "\u001b[0;32m<ipython-input-15-7c3aafa1e883>\u001b[0m in \u001b[0;36m<module>\u001b[0;34m()\u001b[0m\n\u001b[1;32m      1\u001b[0m \u001b[0;31m# Zoom in and see how well predictions fit the data\u001b[0m\u001b[0;34m\u001b[0m\u001b[0;34m\u001b[0m\u001b[0;34m\u001b[0m\u001b[0m\n\u001b[0;32m----> 2\u001b[0;31m \u001b[0mzoom_ind\u001b[0m \u001b[0;34m=\u001b[0m \u001b[0;34m(\u001b[0m\u001b[0mall_x\u001b[0m \u001b[0;34m>\u001b[0m \u001b[0mx_predict\u001b[0m\u001b[0;34m.\u001b[0m\u001b[0mmin\u001b[0m\u001b[0;34m(\u001b[0m\u001b[0;34m)\u001b[0m\u001b[0;34m)\u001b[0m \u001b[0;34m&\u001b[0m \u001b[0;34m(\u001b[0m\u001b[0mall_x\u001b[0m \u001b[0;34m<\u001b[0m \u001b[0mx_predict\u001b[0m\u001b[0;34m.\u001b[0m\u001b[0mmax\u001b[0m\u001b[0;34m(\u001b[0m\u001b[0;34m)\u001b[0m\u001b[0;34m)\u001b[0m\u001b[0;34m\u001b[0m\u001b[0;34m\u001b[0m\u001b[0m\n\u001b[0m\u001b[1;32m      3\u001b[0m \u001b[0mplt\u001b[0m\u001b[0;34m.\u001b[0m\u001b[0mfigure\u001b[0m\u001b[0;34m(\u001b[0m\u001b[0;34m)\u001b[0m\u001b[0;34m\u001b[0m\u001b[0;34m\u001b[0m\u001b[0m\n\u001b[1;32m      4\u001b[0m \u001b[0mplt\u001b[0m\u001b[0;34m.\u001b[0m\u001b[0mplot\u001b[0m\u001b[0;34m(\u001b[0m\u001b[0mall_x\u001b[0m\u001b[0;34m[\u001b[0m\u001b[0mzoom_ind\u001b[0m\u001b[0;34m]\u001b[0m\u001b[0;34m,\u001b[0m \u001b[0my_predict\u001b[0m\u001b[0;34m[\u001b[0m\u001b[0mzoom_ind\u001b[0m\u001b[0;34m]\u001b[0m\u001b[0;34m)\u001b[0m\u001b[0;34m\u001b[0m\u001b[0;34m\u001b[0m\u001b[0m\n\u001b[1;32m      5\u001b[0m \u001b[0mplt\u001b[0m\u001b[0;34m.\u001b[0m\u001b[0mscatter\u001b[0m\u001b[0;34m(\u001b[0m\u001b[0mx_predict\u001b[0m\u001b[0;34m,\u001b[0m \u001b[0my_predict\u001b[0m\u001b[0;34m)\u001b[0m\u001b[0;34m\u001b[0m\u001b[0;34m\u001b[0m\u001b[0m\n",
            "\u001b[0;31mAttributeError\u001b[0m: 'list' object has no attribute 'min'"
          ]
        }
      ]
    },
    {
      "cell_type": "code",
      "metadata": {
        "id": "ic2jvIRlZJi_"
      },
      "source": [
        ""
      ],
      "execution_count": null,
      "outputs": []
    }
  ]
}